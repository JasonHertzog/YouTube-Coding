{
  "nbformat": 4,
  "nbformat_minor": 0,
  "metadata": {
    "colab": {
      "provenance": [],
      "authorship_tag": "ABX9TyNwkSwGiyOHtF2NFN+8oeZ4",
      "include_colab_link": true
    },
    "kernelspec": {
      "name": "python3",
      "display_name": "Python 3"
    },
    "language_info": {
      "name": "python"
    }
  },
  "cells": [
    {
      "cell_type": "markdown",
      "metadata": {
        "id": "view-in-github",
        "colab_type": "text"
      },
      "source": [
        "<a href=\"https://colab.research.google.com/github/JasonHertzog/YouTube-Coding/blob/main/Python_Practice__Simple_Dice_Roller.ipynb\" target=\"_parent\"><img src=\"https://colab.research.google.com/assets/colab-badge.svg\" alt=\"Open In Colab\"/></a>"
      ]
    },
    {
      "cell_type": "code",
      "source": [
        "print(\"Welcome back dear friend!\")"
      ],
      "metadata": {
        "colab": {
          "base_uri": "https://localhost:8080/"
        },
        "id": "LOBfIcM284oH",
        "outputId": "47bcdd6c-bce4-4af0-e1ef-0b5ffc379c43"
      },
      "execution_count": 2,
      "outputs": [
        {
          "output_type": "stream",
          "name": "stdout",
          "text": [
            "Welcome back dear friend!\n"
          ]
        }
      ]
    },
    {
      "cell_type": "markdown",
      "source": [
        "# **Welcome dear friends!**\n",
        "\n",
        "This notebook and video will teach us how to make a cool dice rolling program using python. We'll also learn how to make it look good by adding a GUI, but don't worry, we'll only be using special characters so it will be easy to understand.\n",
        "\n",
        "Difficulty: 3 / 10 🟥🟥🟥🟩🟩🟩🟩🟩🟩🟩\n",
        "  - Basic knowledge of programming fundamentals will help.\n",
        "  - A GUI will be created, but it will only used text.\n",
        "  - This project must be done outside of Google Colab.\n",
        "\n",
        "Since this project is not meant to be done on Google Colab, it's a good idea to use a more advanced code editor like PyCharm or VSCode. These editors have more features and tools that can help you write, test and debug your code. By using one of these editors, you'll be able to get the most out of this project and learn more effectively. So, it's a good idea to follow along and use either PyCharm or VSCode."
      ],
      "metadata": {
        "id": "ggYrzbb09E8A"
      }
    },
    {
      "cell_type": "markdown",
      "source": [
        "To get started, we want to import two things.\n",
        "from tkinter import *\n",
        "from random import randint\n",
        "\n",
        "**from tkinter import ***</br>\n",
        "imports the tkinter library, which is a module that is used to create a GUI on python. Without it, we wouldn't be able to create the buttons, labels, and other GUI elements that we use in this code.\n",
        "\n",
        "**from random import randint**</br>\n",
        "imports the randint function from the random library, which is used to generate a random number between two given integers. In this code, it is used to randomly select a number between 0 and 5 that corresponds to a specific die face. Without this import, we wouldn't be able to generate a random result for the dice roll."
      ],
      "metadata": {
        "id": "-UQRNPyd_FE-"
      }
    },
    {
      "cell_type": "code",
      "source": [
        "from tkinter import *\n",
        "from random import randint"
      ],
      "metadata": {
        "id": "xG3A1wWa9Jy2"
      },
      "execution_count": 1,
      "outputs": []
    },
    {
      "cell_type": "markdown",
      "source": [
        "Now we'll want to create a dictionary that will hold our die faces. To find these unicode faces, I used [this link](http://xahlee.info/comp/unicode_games_cards.html).\n",
        "\n",
        "The variable \"die\" is a dictionary that maps integers 0 to 5 to a corresponding unicode character for the die faces, and the integer 6 to a special unicode character that represents a double die. So now we can easily reference the character when generating a random roll and displaying the result on the GUI."
      ],
      "metadata": {
        "id": "d5pi-M4IAxdp"
      }
    },
    {
      "cell_type": "code",
      "source": [
        "# Dice unicode characters, including double dice.\n",
        "die = {0: '\\u2680', 1: '\\u2681', 2: '\\u2682', 3: '\\u2683', 4: '\\u2684', 5: '\\u2685', 6: '\\U0001F3B2'}"
      ],
      "metadata": {
        "id": "ModXyn2QBbRY"
      },
      "execution_count": 3,
      "outputs": []
    },
    {
      "cell_type": "markdown",
      "source": [
        "**Note**: We had to use **\\u**XXXX for the die faces, and **\\U**XXXXXXXX. Did you notice how when a unicode character has 4 characters it's a lower case u, and for 5+ it's an uppercase U followed by 8 characters?"
      ],
      "metadata": {
        "id": "1iSMrZO7BubE"
      }
    },
    {
      "cell_type": "code",
      "source": [
        "Root = Tk() # Neccessary ss it's the starting point of the GUI and all other widgets will be added to this \"Root\" window."
      ],
      "metadata": {
        "id": "aWtggLfCDtKQ"
      },
      "execution_count": null,
      "outputs": []
    },
    {
      "cell_type": "markdown",
      "source": [
        "We are now ready to create the roll function!</br>"
      ],
      "metadata": {
        "id": "RQ5jqWPMCX-L"
      }
    },
    {
      "cell_type": "code",
      "source": [
        "def roll():\n",
        "    print(\"Button clicked!\")\n",
        "    result = randint(0, 5)  # Remember, 6 is our default double dice.\n",
        "    print(f\"Result = {die[result]}\")\n",
        "    message = Label(Root, text=die[result], font=('Helvetica', 300), width=2, foreground='green')\n",
        "    print(f\"Message = {message}\")\n",
        "    message.grid(row=0, column=0, padx=10, pady=10)"
      ],
      "metadata": {
        "id": "l0J3hrPFBg5z"
      },
      "execution_count": 3,
      "outputs": []
    },
    {
      "cell_type": "markdown",
      "source": [
        "So what does this function do?</br>\n",
        "This is a function called \"roll\" that is called when the button is clicked (we'll be making this button soon).</br>\n",
        "The function starts by printing \"Button clicked!\" in the console to let us know that the button has been pressed. I do this sometimes to have a quick way of \"debugging.\"</br>\n",
        "Then it generates a random number between 0 and 5 using the \"randint\" function from the \"random\" library. This random number will be used to determine which face of the die to display.</br>\n",
        "It then prints the result of the roll in the console using the f-string notation, which allows us to include the value of the variable \"result\" in the string.</br>\n",
        "It then creates a new label called \"message\" that displays the corresponding die face using the \"text\" attribute and the \"die\" dictionary, sets the font and width of the label, and makes the label green using the \"foreground\" attribute.</br>\n",
        "Finally, the function positions the label on the screen using the \"grid\" method, with specific row and column coordinates and some padding to make it look nice."
      ],
      "metadata": {
        "id": "cw-q7Z9FC6v7"
      }
    },
    {
      "cell_type": "code",
      "source": [
        "# Our button\n",
        "roll_button = Button(Root, text=\"Roll\", command=roll)\n",
        "roll_button.grid(row=1, column=0)"
      ],
      "metadata": {
        "id": "BnTl20YQEWTU"
      },
      "execution_count": null,
      "outputs": []
    },
    {
      "cell_type": "code",
      "source": [
        "# Our label (showing result of the roll)\n",
        "dice = Label(Root, text=die[6], font=('Helvetica', 300), width=2, foreground='green')\n",
        "dice.grid(row=0, column=0, padx=10, pady=10)"
      ],
      "metadata": {
        "id": "qpQAe__xEXCT"
      },
      "execution_count": null,
      "outputs": []
    },
    {
      "cell_type": "markdown",
      "source": [
        "**roll_button = Button(Root, text=\"Roll\", command=roll)**</br> Creates a button widget called \"roll_button\" and assigns it the text \"Roll\". It also assigns the \"roll\" function as the command to be executed when the button is clicked. This button is a way for the user to initiate the roll.\n",
        "\n",
        "**roll_button.grid(row=1, column=0)**</br> Positions the button on the screen using the \"grid\" method. The \"row\" and \"column\" attributes specify the row and column coordinates of the button on the grid.\n",
        "\n",
        "**dice = Label(Root, text=die[6], font=('Helvetica', 300), width=2, foreground='green')**</br> Creates a label widget called \"dice\" and assigns it the text of the double dice which is die[6]. It also sets the font and width of the label, and makes the label green using the \"foreground\" attribute.\n",
        "\n",
        "**dice.grid(row=0, column=0, padx=10, pady=10)**</br> positions the label on the screen using the \"grid\" method. The \"row\" and \"column\" attributes specify the row and column coordinates of the label on the grid, and the \"padx\" and \"pady\" attributes add some padding to make it look nice.\n",
        "\n",
        "These lines are necessary to create the button and label, and to position them on the screen."
      ],
      "metadata": {
        "id": "q1CXZ6v2FEPH"
      }
    },
    {
      "cell_type": "markdown",
      "source": [
        "And last but not least..."
      ],
      "metadata": {
        "id": "nXtDr8-zFWyW"
      }
    },
    {
      "cell_type": "code",
      "source": [
        "Root.mainloop()"
      ],
      "metadata": {
        "id": "IvgGlGA9FmDM"
      },
      "execution_count": null,
      "outputs": []
    },
    {
      "cell_type": "markdown",
      "source": [
        "**Root.mainloop()**</br> Necessary because it starts the event loop that listens for user interaction and updates the GUI accordingly, allowing the application to run indefinitely until closed."
      ],
      "metadata": {
        "id": "1T6dw36kFq0I"
      }
    },
    {
      "cell_type": "markdown",
      "source": [
        "Now test it out for yourself! Notice how the green color we chose earlier makes the die faces green! Perhaps you want it to look closer to the double die character, in which case you'll probably want to change \"green\" to \"white\""
      ],
      "metadata": {
        "id": "BlHuJGGDFtMe"
      }
    },
    {
      "cell_type": "markdown",
      "source": [
        "This notebook and corresponding video was created by Jason Hertzog. Please support him on [YouTube](https://www.youtube.com/@jasonhertzog), [LinkedIn](https://www.linkedin.com/in/jason-hertzog/), [Twitter](https://twitter.com/JasonLHertzog), and [GitHub](https://github.com/JasonHertzog)."
      ],
      "metadata": {
        "id": "REgyGNJ5F7is"
      }
    }
  ]
}