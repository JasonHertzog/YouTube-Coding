{
  "nbformat": 4,
  "nbformat_minor": 0,
  "metadata": {
    "colab": {
      "provenance": [],
      "authorship_tag": "ABX9TyNhefYcmUxo5Bwlv6gpXbBT",
      "include_colab_link": true
    },
    "kernelspec": {
      "name": "python3",
      "display_name": "Python 3"
    },
    "language_info": {
      "name": "python"
    }
  },
  "cells": [
    {
      "cell_type": "markdown",
      "metadata": {
        "id": "view-in-github",
        "colab_type": "text"
      },
      "source": [
        "<a href=\"https://colab.research.google.com/github/JasonHertzog/YouTube-Coding/blob/in_progress/Python_Practice__Lambda_Functions.ipynb\" target=\"_parent\"><img src=\"https://colab.research.google.com/assets/colab-badge.svg\" alt=\"Open In Colab\"/></a>"
      ]
    },
    {
      "cell_type": "code",
      "execution_count": 1,
      "metadata": {
        "colab": {
          "base_uri": "https://localhost:8080/"
        },
        "id": "jdR-O3b1QOcW",
        "outputId": "13811ec1-d2b7-45c4-a8ef-dd0e992431ba"
      },
      "outputs": [
        {
          "output_type": "stream",
          "name": "stdout",
          "text": [
            "Welcome back dear friend!\n"
          ]
        }
      ],
      "source": [
        "print(\"Welcome back dear friend!\")"
      ]
    },
    {
      "cell_type": "markdown",
      "source": [
        "##Python Practice: Lambda Functions\n",
        "\n",
        "Difficulty: 1 / 10 🟩🟩🟩🟩🟩🟩🟩🟩🟩🟥\n",
        "\n",
        "Objectives:\n",
        "* Understand what lambda functions are and how they differ from traditional functions\n",
        "* Learn how to use lambda functions as arguments for other functions\n",
        "* Understand the importance of lambda functions in machine learning\n",
        "\n"
      ],
      "metadata": {
        "id": "jOFVxXxHQTml"
      }
    }
  ]
}